{
 "cells": [
  {
   "cell_type": "code",
   "execution_count": 191,
   "id": "569e268f-32e2-45a8-961b-5dcdb15fc611",
   "metadata": {},
   "outputs": [],
   "source": [
    "import numpy as np\n",
    "import pandas as pd\n",
    "import yfinance as yf"
   ]
  },
  {
   "cell_type": "code",
   "execution_count": 192,
   "id": "abdab0cb-020f-4b1f-b481-dc3fa8292bff",
   "metadata": {},
   "outputs": [
    {
     "name": "stdout",
     "output_type": "stream",
     "text": [
      "[*********************100%***********************]  1 of 1 completed\n"
     ]
    }
   ],
   "source": [
    "spy = yf.download(['SPY'], period = '5y')"
   ]
  },
  {
   "cell_type": "code",
   "execution_count": 193,
   "id": "b4fe61e6-4ae7-49ab-a250-c46c187cf22b",
   "metadata": {},
   "outputs": [],
   "source": [
    "price_returns = spy.pct_change()"
   ]
  },
  {
   "cell_type": "code",
   "execution_count": 194,
   "id": "147cf16c-1606-48b7-aa89-d068b6291fa1",
   "metadata": {},
   "outputs": [
    {
     "data": {
      "text/html": [
       "<div>\n",
       "<style scoped>\n",
       "    .dataframe tbody tr th:only-of-type {\n",
       "        vertical-align: middle;\n",
       "    }\n",
       "\n",
       "    .dataframe tbody tr th {\n",
       "        vertical-align: top;\n",
       "    }\n",
       "\n",
       "    .dataframe thead th {\n",
       "        text-align: right;\n",
       "    }\n",
       "</style>\n",
       "<table border=\"1\" class=\"dataframe\">\n",
       "  <thead>\n",
       "    <tr style=\"text-align: right;\">\n",
       "      <th></th>\n",
       "      <th>Open</th>\n",
       "      <th>High</th>\n",
       "      <th>Low</th>\n",
       "      <th>Close</th>\n",
       "      <th>Adj Close</th>\n",
       "      <th>Volume</th>\n",
       "    </tr>\n",
       "    <tr>\n",
       "      <th>Date</th>\n",
       "      <th></th>\n",
       "      <th></th>\n",
       "      <th></th>\n",
       "      <th></th>\n",
       "      <th></th>\n",
       "      <th></th>\n",
       "    </tr>\n",
       "  </thead>\n",
       "  <tbody>\n",
       "    <tr>\n",
       "      <th>2018-05-16</th>\n",
       "      <td>NaN</td>\n",
       "      <td>NaN</td>\n",
       "      <td>NaN</td>\n",
       "      <td>NaN</td>\n",
       "      <td>NaN</td>\n",
       "      <td>NaN</td>\n",
       "    </tr>\n",
       "    <tr>\n",
       "      <th>2018-05-17</th>\n",
       "      <td>0.002950</td>\n",
       "      <td>0.001723</td>\n",
       "      <td>0.000074</td>\n",
       "      <td>-0.000845</td>\n",
       "      <td>-0.000845</td>\n",
       "      <td>0.048084</td>\n",
       "    </tr>\n",
       "    <tr>\n",
       "      <th>2018-05-18</th>\n",
       "      <td>-0.001177</td>\n",
       "      <td>-0.004392</td>\n",
       "      <td>-0.000738</td>\n",
       "      <td>-0.002500</td>\n",
       "      <td>-0.002500</td>\n",
       "      <td>0.138523</td>\n",
       "    </tr>\n",
       "    <tr>\n",
       "      <th>2018-05-21</th>\n",
       "      <td>0.005117</td>\n",
       "      <td>0.007168</td>\n",
       "      <td>0.006053</td>\n",
       "      <td>0.007519</td>\n",
       "      <td>0.007519</td>\n",
       "      <td>-0.098529</td>\n",
       "    </tr>\n",
       "    <tr>\n",
       "      <th>2018-05-22</th>\n",
       "      <td>0.003480</td>\n",
       "      <td>0.000985</td>\n",
       "      <td>-0.001211</td>\n",
       "      <td>-0.002780</td>\n",
       "      <td>-0.002780</td>\n",
       "      <td>-0.087194</td>\n",
       "    </tr>\n",
       "    <tr>\n",
       "      <th>...</th>\n",
       "      <td>...</td>\n",
       "      <td>...</td>\n",
       "      <td>...</td>\n",
       "      <td>...</td>\n",
       "      <td>...</td>\n",
       "      <td>...</td>\n",
       "    </tr>\n",
       "    <tr>\n",
       "      <th>2023-05-09</th>\n",
       "      <td>-0.004456</td>\n",
       "      <td>-0.002783</td>\n",
       "      <td>-0.001435</td>\n",
       "      <td>-0.004385</td>\n",
       "      <td>-0.004385</td>\n",
       "      <td>-0.016519</td>\n",
       "    </tr>\n",
       "    <tr>\n",
       "      <th>2023-05-10</th>\n",
       "      <td>0.006689</td>\n",
       "      <td>0.005945</td>\n",
       "      <td>-0.004432</td>\n",
       "      <td>0.004672</td>\n",
       "      <td>0.004672</td>\n",
       "      <td>0.953326</td>\n",
       "    </tr>\n",
       "    <tr>\n",
       "      <th>2023-05-11</th>\n",
       "      <td>-0.004663</td>\n",
       "      <td>-0.005090</td>\n",
       "      <td>0.002690</td>\n",
       "      <td>-0.001744</td>\n",
       "      <td>-0.001744</td>\n",
       "      <td>-0.270283</td>\n",
       "    </tr>\n",
       "    <tr>\n",
       "      <th>2023-05-12</th>\n",
       "      <td>0.003568</td>\n",
       "      <td>0.002934</td>\n",
       "      <td>-0.002195</td>\n",
       "      <td>-0.001310</td>\n",
       "      <td>-0.001310</td>\n",
       "      <td>0.004024</td>\n",
       "    </tr>\n",
       "    <tr>\n",
       "      <th>2023-05-15</th>\n",
       "      <td>-0.002903</td>\n",
       "      <td>-0.000508</td>\n",
       "      <td>0.002836</td>\n",
       "      <td>0.003450</td>\n",
       "      <td>0.003450</td>\n",
       "      <td>-0.230398</td>\n",
       "    </tr>\n",
       "  </tbody>\n",
       "</table>\n",
       "<p>1258 rows × 6 columns</p>\n",
       "</div>"
      ],
      "text/plain": [
       "                Open      High       Low     Close  Adj Close    Volume\n",
       "Date                                                                   \n",
       "2018-05-16       NaN       NaN       NaN       NaN        NaN       NaN\n",
       "2018-05-17  0.002950  0.001723  0.000074 -0.000845  -0.000845  0.048084\n",
       "2018-05-18 -0.001177 -0.004392 -0.000738 -0.002500  -0.002500  0.138523\n",
       "2018-05-21  0.005117  0.007168  0.006053  0.007519   0.007519 -0.098529\n",
       "2018-05-22  0.003480  0.000985 -0.001211 -0.002780  -0.002780 -0.087194\n",
       "...              ...       ...       ...       ...        ...       ...\n",
       "2023-05-09 -0.004456 -0.002783 -0.001435 -0.004385  -0.004385 -0.016519\n",
       "2023-05-10  0.006689  0.005945 -0.004432  0.004672   0.004672  0.953326\n",
       "2023-05-11 -0.004663 -0.005090  0.002690 -0.001744  -0.001744 -0.270283\n",
       "2023-05-12  0.003568  0.002934 -0.002195 -0.001310  -0.001310  0.004024\n",
       "2023-05-15 -0.002903 -0.000508  0.002836  0.003450   0.003450 -0.230398\n",
       "\n",
       "[1258 rows x 6 columns]"
      ]
     },
     "execution_count": 194,
     "metadata": {},
     "output_type": "execute_result"
    }
   ],
   "source": [
    "price_returns"
   ]
  },
  {
   "cell_type": "code",
   "execution_count": 195,
   "id": "3d5c21c8-a5e7-4015-910e-e183c69e7bf0",
   "metadata": {},
   "outputs": [],
   "source": [
    "window = 12  # Number of months for momentum calculation\n",
    "price_momentum = price_returns.rolling(window).sum()"
   ]
  },
  {
   "cell_type": "code",
   "execution_count": 196,
   "id": "c9e02ba7-65db-4efe-968e-002714142985",
   "metadata": {},
   "outputs": [
    {
     "data": {
      "text/html": [
       "<div>\n",
       "<style scoped>\n",
       "    .dataframe tbody tr th:only-of-type {\n",
       "        vertical-align: middle;\n",
       "    }\n",
       "\n",
       "    .dataframe tbody tr th {\n",
       "        vertical-align: top;\n",
       "    }\n",
       "\n",
       "    .dataframe thead th {\n",
       "        text-align: right;\n",
       "    }\n",
       "</style>\n",
       "<table border=\"1\" class=\"dataframe\">\n",
       "  <thead>\n",
       "    <tr style=\"text-align: right;\">\n",
       "      <th></th>\n",
       "      <th>Open</th>\n",
       "      <th>High</th>\n",
       "      <th>Low</th>\n",
       "      <th>Close</th>\n",
       "      <th>Adj Close</th>\n",
       "      <th>Volume</th>\n",
       "    </tr>\n",
       "    <tr>\n",
       "      <th>Date</th>\n",
       "      <th></th>\n",
       "      <th></th>\n",
       "      <th></th>\n",
       "      <th></th>\n",
       "      <th></th>\n",
       "      <th></th>\n",
       "    </tr>\n",
       "  </thead>\n",
       "  <tbody>\n",
       "    <tr>\n",
       "      <th>2018-05-16</th>\n",
       "      <td>NaN</td>\n",
       "      <td>NaN</td>\n",
       "      <td>NaN</td>\n",
       "      <td>NaN</td>\n",
       "      <td>NaN</td>\n",
       "      <td>NaN</td>\n",
       "    </tr>\n",
       "    <tr>\n",
       "      <th>2018-05-17</th>\n",
       "      <td>NaN</td>\n",
       "      <td>NaN</td>\n",
       "      <td>NaN</td>\n",
       "      <td>NaN</td>\n",
       "      <td>NaN</td>\n",
       "      <td>NaN</td>\n",
       "    </tr>\n",
       "    <tr>\n",
       "      <th>2018-05-18</th>\n",
       "      <td>NaN</td>\n",
       "      <td>NaN</td>\n",
       "      <td>NaN</td>\n",
       "      <td>NaN</td>\n",
       "      <td>NaN</td>\n",
       "      <td>NaN</td>\n",
       "    </tr>\n",
       "    <tr>\n",
       "      <th>2018-05-21</th>\n",
       "      <td>NaN</td>\n",
       "      <td>NaN</td>\n",
       "      <td>NaN</td>\n",
       "      <td>NaN</td>\n",
       "      <td>NaN</td>\n",
       "      <td>NaN</td>\n",
       "    </tr>\n",
       "    <tr>\n",
       "      <th>2018-05-22</th>\n",
       "      <td>NaN</td>\n",
       "      <td>NaN</td>\n",
       "      <td>NaN</td>\n",
       "      <td>NaN</td>\n",
       "      <td>NaN</td>\n",
       "      <td>NaN</td>\n",
       "    </tr>\n",
       "    <tr>\n",
       "      <th>...</th>\n",
       "      <td>...</td>\n",
       "      <td>...</td>\n",
       "      <td>...</td>\n",
       "      <td>...</td>\n",
       "      <td>...</td>\n",
       "      <td>...</td>\n",
       "    </tr>\n",
       "    <tr>\n",
       "      <th>2023-05-09</th>\n",
       "      <td>-0.002253</td>\n",
       "      <td>-0.000995</td>\n",
       "      <td>0.001788</td>\n",
       "      <td>-0.002425</td>\n",
       "      <td>-0.002425</td>\n",
       "      <td>0.100166</td>\n",
       "    </tr>\n",
       "    <tr>\n",
       "      <th>2023-05-10</th>\n",
       "      <td>0.004921</td>\n",
       "      <td>0.004005</td>\n",
       "      <td>-0.003692</td>\n",
       "      <td>0.001204</td>\n",
       "      <td>0.001204</td>\n",
       "      <td>1.177717</td>\n",
       "    </tr>\n",
       "    <tr>\n",
       "      <th>2023-05-11</th>\n",
       "      <td>0.003681</td>\n",
       "      <td>0.003539</td>\n",
       "      <td>0.010153</td>\n",
       "      <td>0.015334</td>\n",
       "      <td>0.015334</td>\n",
       "      <td>0.387715</td>\n",
       "    </tr>\n",
       "    <tr>\n",
       "      <th>2023-05-12</th>\n",
       "      <td>0.016650</td>\n",
       "      <td>0.014548</td>\n",
       "      <td>0.013475</td>\n",
       "      <td>0.018259</td>\n",
       "      <td>0.018259</td>\n",
       "      <td>0.568893</td>\n",
       "    </tr>\n",
       "    <tr>\n",
       "      <th>2023-05-15</th>\n",
       "      <td>0.013059</td>\n",
       "      <td>0.002148</td>\n",
       "      <td>0.008980</td>\n",
       "      <td>0.001801</td>\n",
       "      <td>0.001801</td>\n",
       "      <td>0.182847</td>\n",
       "    </tr>\n",
       "  </tbody>\n",
       "</table>\n",
       "<p>1258 rows × 6 columns</p>\n",
       "</div>"
      ],
      "text/plain": [
       "                Open      High       Low     Close  Adj Close    Volume\n",
       "Date                                                                   \n",
       "2018-05-16       NaN       NaN       NaN       NaN        NaN       NaN\n",
       "2018-05-17       NaN       NaN       NaN       NaN        NaN       NaN\n",
       "2018-05-18       NaN       NaN       NaN       NaN        NaN       NaN\n",
       "2018-05-21       NaN       NaN       NaN       NaN        NaN       NaN\n",
       "2018-05-22       NaN       NaN       NaN       NaN        NaN       NaN\n",
       "...              ...       ...       ...       ...        ...       ...\n",
       "2023-05-09 -0.002253 -0.000995  0.001788 -0.002425  -0.002425  0.100166\n",
       "2023-05-10  0.004921  0.004005 -0.003692  0.001204   0.001204  1.177717\n",
       "2023-05-11  0.003681  0.003539  0.010153  0.015334   0.015334  0.387715\n",
       "2023-05-12  0.016650  0.014548  0.013475  0.018259   0.018259  0.568893\n",
       "2023-05-15  0.013059  0.002148  0.008980  0.001801   0.001801  0.182847\n",
       "\n",
       "[1258 rows x 6 columns]"
      ]
     },
     "execution_count": 196,
     "metadata": {},
     "output_type": "execute_result"
    }
   ],
   "source": [
    "price_momentum"
   ]
  },
  {
   "cell_type": "code",
   "execution_count": 197,
   "id": "832c19c3-4ab1-4768-ad82-a358f8f6fe1e",
   "metadata": {},
   "outputs": [],
   "source": [
    "mean_factors = price_momentum.mean()\n",
    "std_factors = price_momentum.std()"
   ]
  },
  {
   "cell_type": "code",
   "execution_count": 198,
   "id": "7dffe55b-a9a1-42af-98b9-2741a0733ad3",
   "metadata": {},
   "outputs": [
    {
     "data": {
      "text/plain": [
       "Open         0.004968\n",
       "High         0.004657\n",
       "Low          0.004821\n",
       "Close        0.005098\n",
       "Adj Close    0.005911\n",
       "Volume       0.583416\n",
       "dtype: float64"
      ]
     },
     "execution_count": 198,
     "metadata": {},
     "output_type": "execute_result"
    }
   ],
   "source": [
    "mean_factors"
   ]
  },
  {
   "cell_type": "code",
   "execution_count": 199,
   "id": "98deafa1-7780-4743-b5aa-9eb856a32d41",
   "metadata": {},
   "outputs": [],
   "source": [
    "z_scores = (price_momentum - mean_factors) / std_factors"
   ]
  },
  {
   "cell_type": "code",
   "execution_count": 200,
   "id": "e12ed1a3-a2ba-4d73-94aa-d67e181d5a66",
   "metadata": {},
   "outputs": [
    {
     "data": {
      "text/html": [
       "<div>\n",
       "<style scoped>\n",
       "    .dataframe tbody tr th:only-of-type {\n",
       "        vertical-align: middle;\n",
       "    }\n",
       "\n",
       "    .dataframe tbody tr th {\n",
       "        vertical-align: top;\n",
       "    }\n",
       "\n",
       "    .dataframe thead th {\n",
       "        text-align: right;\n",
       "    }\n",
       "</style>\n",
       "<table border=\"1\" class=\"dataframe\">\n",
       "  <thead>\n",
       "    <tr style=\"text-align: right;\">\n",
       "      <th></th>\n",
       "      <th>Open</th>\n",
       "      <th>High</th>\n",
       "      <th>Low</th>\n",
       "      <th>Close</th>\n",
       "      <th>Adj Close</th>\n",
       "      <th>Volume</th>\n",
       "    </tr>\n",
       "    <tr>\n",
       "      <th>Date</th>\n",
       "      <th></th>\n",
       "      <th></th>\n",
       "      <th></th>\n",
       "      <th></th>\n",
       "      <th></th>\n",
       "      <th></th>\n",
       "    </tr>\n",
       "  </thead>\n",
       "  <tbody>\n",
       "    <tr>\n",
       "      <th>2018-05-16</th>\n",
       "      <td>NaN</td>\n",
       "      <td>NaN</td>\n",
       "      <td>NaN</td>\n",
       "      <td>NaN</td>\n",
       "      <td>NaN</td>\n",
       "      <td>NaN</td>\n",
       "    </tr>\n",
       "    <tr>\n",
       "      <th>2018-05-17</th>\n",
       "      <td>NaN</td>\n",
       "      <td>NaN</td>\n",
       "      <td>NaN</td>\n",
       "      <td>NaN</td>\n",
       "      <td>NaN</td>\n",
       "      <td>NaN</td>\n",
       "    </tr>\n",
       "    <tr>\n",
       "      <th>2018-05-18</th>\n",
       "      <td>NaN</td>\n",
       "      <td>NaN</td>\n",
       "      <td>NaN</td>\n",
       "      <td>NaN</td>\n",
       "      <td>NaN</td>\n",
       "      <td>NaN</td>\n",
       "    </tr>\n",
       "    <tr>\n",
       "      <th>2018-05-21</th>\n",
       "      <td>NaN</td>\n",
       "      <td>NaN</td>\n",
       "      <td>NaN</td>\n",
       "      <td>NaN</td>\n",
       "      <td>NaN</td>\n",
       "      <td>NaN</td>\n",
       "    </tr>\n",
       "    <tr>\n",
       "      <th>2018-05-22</th>\n",
       "      <td>NaN</td>\n",
       "      <td>NaN</td>\n",
       "      <td>NaN</td>\n",
       "      <td>NaN</td>\n",
       "      <td>NaN</td>\n",
       "      <td>NaN</td>\n",
       "    </tr>\n",
       "    <tr>\n",
       "      <th>...</th>\n",
       "      <td>...</td>\n",
       "      <td>...</td>\n",
       "      <td>...</td>\n",
       "      <td>...</td>\n",
       "      <td>...</td>\n",
       "      <td>...</td>\n",
       "    </tr>\n",
       "    <tr>\n",
       "      <th>2023-05-09</th>\n",
       "      <td>-0.170039</td>\n",
       "      <td>-0.142787</td>\n",
       "      <td>-0.066907</td>\n",
       "      <td>-0.177957</td>\n",
       "      <td>-0.198507</td>\n",
       "      <td>-0.764759</td>\n",
       "    </tr>\n",
       "    <tr>\n",
       "      <th>2023-05-10</th>\n",
       "      <td>-0.001107</td>\n",
       "      <td>-0.016476</td>\n",
       "      <td>-0.187820</td>\n",
       "      <td>-0.092110</td>\n",
       "      <td>-0.112082</td>\n",
       "      <td>0.940500</td>\n",
       "    </tr>\n",
       "    <tr>\n",
       "      <th>2023-05-11</th>\n",
       "      <td>-0.030324</td>\n",
       "      <td>-0.028250</td>\n",
       "      <td>0.117662</td>\n",
       "      <td>0.242124</td>\n",
       "      <td>0.224402</td>\n",
       "      <td>-0.309702</td>\n",
       "    </tr>\n",
       "    <tr>\n",
       "      <th>2023-05-12</th>\n",
       "      <td>0.275078</td>\n",
       "      <td>0.249840</td>\n",
       "      <td>0.190954</td>\n",
       "      <td>0.311322</td>\n",
       "      <td>0.294065</td>\n",
       "      <td>-0.022984</td>\n",
       "    </tr>\n",
       "    <tr>\n",
       "      <th>2023-05-15</th>\n",
       "      <td>0.190518</td>\n",
       "      <td>-0.063389</td>\n",
       "      <td>0.091773</td>\n",
       "      <td>-0.077984</td>\n",
       "      <td>-0.097860</td>\n",
       "      <td>-0.633913</td>\n",
       "    </tr>\n",
       "  </tbody>\n",
       "</table>\n",
       "<p>1258 rows × 6 columns</p>\n",
       "</div>"
      ],
      "text/plain": [
       "                Open      High       Low     Close  Adj Close    Volume\n",
       "Date                                                                   \n",
       "2018-05-16       NaN       NaN       NaN       NaN        NaN       NaN\n",
       "2018-05-17       NaN       NaN       NaN       NaN        NaN       NaN\n",
       "2018-05-18       NaN       NaN       NaN       NaN        NaN       NaN\n",
       "2018-05-21       NaN       NaN       NaN       NaN        NaN       NaN\n",
       "2018-05-22       NaN       NaN       NaN       NaN        NaN       NaN\n",
       "...              ...       ...       ...       ...        ...       ...\n",
       "2023-05-09 -0.170039 -0.142787 -0.066907 -0.177957  -0.198507 -0.764759\n",
       "2023-05-10 -0.001107 -0.016476 -0.187820 -0.092110  -0.112082  0.940500\n",
       "2023-05-11 -0.030324 -0.028250  0.117662  0.242124   0.224402 -0.309702\n",
       "2023-05-12  0.275078  0.249840  0.190954  0.311322   0.294065 -0.022984\n",
       "2023-05-15  0.190518 -0.063389  0.091773 -0.077984  -0.097860 -0.633913\n",
       "\n",
       "[1258 rows x 6 columns]"
      ]
     },
     "execution_count": 200,
     "metadata": {},
     "output_type": "execute_result"
    }
   ],
   "source": [
    "z_scores"
   ]
  },
  {
   "cell_type": "code",
   "execution_count": 201,
   "id": "8bb8b08c-dee9-401d-b290-50d14394b2ac",
   "metadata": {},
   "outputs": [
    {
     "data": {
      "text/plain": [
       "-5.702590174639648e-18"
      ]
     },
     "execution_count": 201,
     "metadata": {},
     "output_type": "execute_result"
    }
   ],
   "source": [
    "z_scores['Adj Close'].mean()"
   ]
  },
  {
   "cell_type": "code",
   "execution_count": 202,
   "id": "745b9b90-f807-4ff8-b9ac-76ee331979ed",
   "metadata": {},
   "outputs": [
    {
     "name": "stdout",
     "output_type": "stream",
     "text": [
      "                Open      High       Low     Close  Adj Close    Volume\n",
      "Date                                                                   \n",
      "2018-06-04  0.179664  0.109310  0.153771  0.115966   0.097383 -0.072971\n",
      "2018-06-05  0.154790  0.096992  0.145704  0.153159   0.134840  0.051423\n",
      "2018-06-06  0.245853  0.390383  0.235214  0.410059   0.393471  0.191117\n",
      "2018-06-07  0.309774  0.278481  0.201911  0.229654   0.211846  0.605293\n",
      "2018-06-08  0.134647  0.250865  0.254178  0.365348   0.348450  0.725286\n",
      "...              ...       ...       ...       ...        ...       ...\n",
      "2023-04-24  0.121644  0.152212  0.150307  0.172592   0.154402 -0.666526\n",
      "2023-04-27 -0.300415 -0.021203 -0.221028  0.044923   0.025873  0.267744\n",
      "2023-04-28 -0.133050  0.116909  0.113253  0.343233   0.326192 -0.517935\n",
      "2023-05-11 -0.030324 -0.028250  0.117662  0.242124   0.224402 -0.309702\n",
      "2023-05-12  0.275078  0.249840  0.190954  0.311322   0.294065 -0.022984\n",
      "\n",
      "[748 rows x 6 columns]\n"
     ]
    }
   ],
   "source": [
    "#long basket\n",
    "long_basket = z_scores[z_scores['Adj Close'] >= z_scores['Adj Close'].mean()]\n",
    "\n",
    "# Print the filtered long basket\n",
    "print(long_basket)"
   ]
  },
  {
   "cell_type": "code",
   "execution_count": 203,
   "id": "6492cc61-8b55-4c1e-8795-3afeec259d57",
   "metadata": {},
   "outputs": [
    {
     "data": {
      "text/plain": [
       "Date\n",
       "2018-06-04    0.097383\n",
       "2018-06-05    0.134840\n",
       "2018-06-06    0.393471\n",
       "2018-06-07    0.211846\n",
       "2018-06-08    0.348450\n",
       "                ...   \n",
       "2023-04-24    0.154402\n",
       "2023-04-27    0.025873\n",
       "2023-04-28    0.326192\n",
       "2023-05-11    0.224402\n",
       "2023-05-12    0.294065\n",
       "Name: Adj Close, Length: 748, dtype: float64"
      ]
     },
     "execution_count": 203,
     "metadata": {},
     "output_type": "execute_result"
    }
   ],
   "source": [
    "long_basket['Adj Close']"
   ]
  },
  {
   "cell_type": "code",
   "execution_count": 204,
   "id": "de4f1cd0-9d27-4afd-918f-1a00c4dba973",
   "metadata": {},
   "outputs": [
    {
     "name": "stdout",
     "output_type": "stream",
     "text": [
      "                Open      High       Low     Close  Adj Close    Volume\n",
      "Date                                                                   \n",
      "2018-06-21 -0.035538 -0.074418 -0.143325 -0.192376  -0.106710  0.983637\n",
      "2018-06-22 -0.124490 -0.274255 -0.151254 -0.347014  -0.262390  0.264779\n",
      "2018-06-25 -0.498550 -0.542197 -0.684787 -0.666460  -0.583982  2.397850\n",
      "2018-06-26 -0.560366 -0.637335 -0.571767 -0.684019  -0.601652  1.620219\n",
      "2018-06-27 -0.641858 -0.617603 -0.834549 -0.911440  -0.830615  2.754949\n",
      "...              ...       ...       ...       ...        ...       ...\n",
      "2023-05-05 -0.300497 -0.189447 -0.284360 -0.191237  -0.211876  0.483249\n",
      "2023-05-08 -0.009004 -0.134773 -0.040631 -0.055846  -0.075574 -0.788343\n",
      "2023-05-09 -0.170039 -0.142787 -0.066907 -0.177957  -0.198507 -0.764759\n",
      "2023-05-10 -0.001107 -0.016476 -0.187820 -0.092110  -0.112082  0.940500\n",
      "2023-05-15  0.190518 -0.063389  0.091773 -0.077984  -0.097860 -0.633913\n",
      "\n",
      "[498 rows x 6 columns]\n"
     ]
    }
   ],
   "source": [
    "#short basket\n",
    "short_basket = z_scores[z_scores['Adj Close'] < z_scores['Adj Close'].mean()]\n",
    "\n",
    "# Print the filtered short basket\n",
    "print(short_basket)"
   ]
  },
  {
   "cell_type": "code",
   "execution_count": 205,
   "id": "d726a8f7-44bb-449f-bf05-529bd33f3f34",
   "metadata": {},
   "outputs": [
    {
     "data": {
      "text/plain": [
       "Date\n",
       "2018-06-21   -0.106710\n",
       "2018-06-22   -0.262390\n",
       "2018-06-25   -0.583982\n",
       "2018-06-26   -0.601652\n",
       "2018-06-27   -0.830615\n",
       "                ...   \n",
       "2023-05-05   -0.211876\n",
       "2023-05-08   -0.075574\n",
       "2023-05-09   -0.198507\n",
       "2023-05-10   -0.112082\n",
       "2023-05-15   -0.097860\n",
       "Name: Adj Close, Length: 498, dtype: float64"
      ]
     },
     "execution_count": 205,
     "metadata": {},
     "output_type": "execute_result"
    }
   ],
   "source": [
    "short_basket['Adj Close']"
   ]
  },
  {
   "cell_type": "code",
   "execution_count": 206,
   "id": "7e3cebe3-da88-4e15-a1ea-9479e6b3095b",
   "metadata": {},
   "outputs": [
    {
     "name": "stdout",
     "output_type": "stream",
     "text": [
      "[*********************100%***********************]  1 of 1 completed\n"
     ]
    },
    {
     "data": {
      "text/plain": [
       "<AxesSubplot:xlabel='Date'>"
      ]
     },
     "execution_count": 206,
     "metadata": {},
     "output_type": "execute_result"
    },
    {
     "data": {
      "image/png": "[encoded data removed]",
      "text/plain": [
       "<Figure size 432x288 with 1 Axes>"
      ]
     },
     "metadata": {
      "needs_background": "light"
     },
     "output_type": "display_data"
    }
   ],
   "source": [
    "import yfinance as yf\n",
    "import pandas as pd\n",
    "\n",
    "# Step 1: Define the Trading Strategy\n",
    "\n",
    "def my_strategy(data):\n",
    "    # Implement your trading strategy rules here\n",
    "    \n",
    "    data['ma_50'] = data['Adj Close'].rolling(window=50).mean()\n",
    "    data['position'] = 0\n",
    "    data.loc[data['Adj Close'] > data['ma_50'], 'position'] = 1\n",
    "    data.loc[data['Adj Close'] < data['ma_50'], 'position'] = -1\n",
    "\n",
    "    return data\n",
    "\n",
    "\n",
    "# Step 2: Obtain Historical Data\n",
    "\n",
    "# Fetch historical data for SPY using 'yfinance'\n",
    "data = yf.download('SPY', period='5y')['Adj Close'].to_frame()\n",
    "\n",
    "# Step 3: Implement the Strategy\n",
    "\n",
    "data_with_strategy = my_strategy(data.copy())\n",
    "\n",
    "# Step 4: Performance Measurement\n",
    "\n",
    "returns = data_with_strategy['Adj Close'].pct_change()\n",
    "strategy_returns = returns * data_with_strategy['position']\n",
    "cumulative_returns = (1 + strategy_returns).cumprod()\n",
    "\n",
    "# Step 5: Analysis and Optimization\n",
    "# ... Perform analysis and optimization as per your requirements ...\n",
    "\n",
    "# Step 6: Visualization and Reporting\n",
    "\n",
    "# Plot cumulative returns\n",
    "cumulative_returns.plot()\n"
   ]
  },
  {
   "cell_type": "code",
   "execution_count": 207,
   "id": "f3ea6e9d-3d30-44bd-82e9-533d9a1c1994",
   "metadata": {},
   "outputs": [
    {
     "data": {
      "text/plain": [
       "Date\n",
       "2018-05-16    NaN\n",
       "2018-05-17    1.0\n",
       "2018-05-18    1.0\n",
       "2018-05-21    1.0\n",
       "2018-05-22    1.0\n",
       "dtype: float64"
      ]
     },
     "execution_count": 207,
     "metadata": {},
     "output_type": "execute_result"
    }
   ],
   "source": [
    "cumulative_returns.head()"
   ]
  },
  {
   "cell_type": "code",
   "execution_count": 208,
   "id": "4180f531-cbb6-4474-8c4e-6a4a386f8146",
   "metadata": {},
   "outputs": [
    {
     "name": "stdout",
     "output_type": "stream",
     "text": [
      "[*********************100%***********************]  1 of 1 completed\n"
     ]
    },
    {
     "data": {
      "text/plain": [
       "<AxesSubplot:xlabel='Date'>"
      ]
     },
     "execution_count": 208,
     "metadata": {},
     "output_type": "execute_result"
    },
    {
     "data": {
      "image/png": "[encoded data removed]",
      "text/plain": [
       "<Figure size 432x288 with 1 Axes>"
      ]
     },
     "metadata": {
      "needs_background": "light"
     },
     "output_type": "display_data"
    }
   ],
   "source": [
    "import yfinance as yf\n",
    "import pandas as pd\n",
    "\n",
    "# Step 1: Define the Trading Strategy\n",
    "\n",
    "def my_strategy(data):\n",
    "    # Implement your trading strategy rules here\n",
    "    data['position'] = 1  # Set position to 1 (long position) for the entire duration\n",
    "    \n",
    "    return data\n",
    "\n",
    "\n",
    "# Step 2: Obtain Historical Data\n",
    "\n",
    "# Fetch historical data for SPY using 'yfinance'\n",
    "data = yf.download('SPY', period='5y')['Adj Close'].to_frame()\n",
    "\n",
    "# Step 3: Implement the Strategy\n",
    "\n",
    "data_with_strategy = my_strategy(data.copy())\n",
    "\n",
    "# Step 4: Performance Measurement\n",
    "\n",
    "returns = data_with_strategy['Adj Close'].pct_change()\n",
    "strategy_returns = returns * data_with_strategy['position']\n",
    "cumulative_returns = (1 + strategy_returns).cumprod()\n",
    "\n",
    "# Step 5: Analysis and Optimization\n",
    "# ... Perform analysis and optimization as per your requirements ...\n",
    "\n",
    "# Step 6: Visualization and Reporting\n",
    "\n",
    "# Plot cumulative returns\n",
    "cumulative_returns.plot()\n"
   ]
  },
  {
   "cell_type": "code",
   "execution_count": 209,
   "id": "4c086650-7956-42fa-9afb-b6a9ebcb7107",
   "metadata": {},
   "outputs": [
    {
     "name": "stdout",
     "output_type": "stream",
     "text": [
      "[*********************100%***********************]  1 of 1 completed\n"
     ]
    },
    {
     "data": {
      "text/plain": [
       "<AxesSubplot:xlabel='Date'>"
      ]
     },
     "execution_count": 209,
     "metadata": {},
     "output_type": "execute_result"
    },
    {
     "data": {
      "image/png": "[encoded data removed]",
      "text/plain": [
       "<Figure size 432x288 with 1 Axes>"
      ]
     },
     "metadata": {
      "needs_background": "light"
     },
     "output_type": "display_data"
    }
   ],
   "source": [
    "import yfinance as yf\n",
    "import pandas as pd\n",
    "\n",
    "# Step 1: Define the Trading Strategy\n",
    "\n",
    "def my_strategy(data):\n",
    "    data['position'] = -1  # Set position to -1 (short position) for the entire duration\n",
    "    \n",
    "    return data\n",
    "\n",
    "\n",
    "# Step 2: Obtain Historical Data\n",
    "\n",
    "data = yf.download('SPY', period='5y')['Adj Close'].to_frame()\n",
    "\n",
    "# Step 3: Implement the Strategy\n",
    "\n",
    "data_with_strategy = my_strategy(data.copy())\n",
    "\n",
    "# Step 4: Performance Measurement\n",
    "\n",
    "returns = data_with_strategy['Adj Close'].pct_change()\n",
    "strategy_returns = returns * data_with_strategy['position']\n",
    "cumulative_returns = (1 + strategy_returns).cumprod()\n",
    "\n",
    "# Step 5: Visualization and Reporting\n",
    "\n",
    "# Plot cumulative returns\n",
    "cumulative_returns.plot()\n"
   ]
  },
  {
   "cell_type": "code",
   "execution_count": 210,
   "id": "9e8e4ec0-0351-4ffe-b462-41e0c3f8ded7",
   "metadata": {},
   "outputs": [
    {
     "name": "stdout",
     "output_type": "stream",
     "text": [
      "[*********************100%***********************]  1 of 1 completed\n",
      "[*********************100%***********************]  1 of 1 completed\n"
     ]
    },
    {
     "data": {
      "image/png": "[encoded data removed]",
      "text/plain": [
       "<Figure size 432x288 with 1 Axes>"
      ]
     },
     "metadata": {
      "needs_background": "light"
     },
     "output_type": "display_data"
    }
   ],
   "source": [
    "import yfinance as yf\n",
    "import pandas as pd\n",
    "import matplotlib.pyplot as plt\n",
    "\n",
    "# Step 1: Define the Trading Strategy\n",
    "\n",
    "def my_strategy(data):\n",
    "    \n",
    "    # Example code snippet:\n",
    "    data['ma_50'] = data['Adj Close'].rolling(window=50).mean()\n",
    "    data['position'] = 0\n",
    "    data.loc[data['Adj Close'] > data['ma_50'], 'position'] = 1\n",
    "    data.loc[data['Adj Close'] < data['ma_50'], 'position'] = -1\n",
    "\n",
    "    return data\n",
    "\n",
    "\n",
    "# Step 2: Obtain Historical Data\n",
    "\n",
    "spy_data = yf.download('SPY', period='5y')['Adj Close'].to_frame()\n",
    "portfolio_data = yf.download('AAPL', period='5y')['Adj Close'].to_frame()  # Our portfolio\n",
    "\n",
    "# Step 3: Implement the Strategy\n",
    "\n",
    "spy_data_with_strategy = my_strategy(spy_data.copy())\n",
    "portfolio_data_with_strategy = my_strategy(portfolio_data.copy())\n",
    "\n",
    "# Step 4: Calculate Monthly Returns\n",
    "\n",
    "spy_monthly_returns = spy_data_with_strategy['Adj Close'].resample('M').ffill().pct_change()\n",
    "portfolio_monthly_returns = portfolio_data_with_strategy['Adj Close'].resample('M').ffill().pct_change()\n",
    "\n",
    "# Step 5: Create Bar Chart\n",
    "\n",
    "# Set up the figure and axes\n",
    "fig, ax = plt.subplots()\n",
    "\n",
    "# Plot the monthly portfolio returns\n",
    "portfolio_monthly_returns.plot(kind='bar', ax=ax, color='green', alpha=0.7)\n",
    "spy_monthly_returns.plot(kind='bar', ax=ax, color='red', alpha=0.7)\n",
    "\n",
    "# Set labels and titles\n",
    "ax.set_xlabel('Date')\n",
    "ax.set_ylabel('Monthly Returns')\n",
    "ax.set_title('Monthly Portfolio Returns vs. SPY')\n",
    "\n",
    "# Set positive and negative coloring\n",
    "ax.bar(portfolio_monthly_returns[portfolio_monthly_returns >= 0].index,\n",
    "       portfolio_monthly_returns[portfolio_monthly_returns >= 0],\n",
    "       color='green', alpha=0.7)\n",
    "ax.bar(portfolio_monthly_returns[portfolio_monthly_returns < 0].index,\n",
    "       portfolio_monthly_returns[portfolio_monthly_returns < 0],\n",
    "       color='red', alpha=0.7)\n",
    "\n",
    "# Show the plot\n",
    "plt.show()\n"
   ]
  },
  {
   "cell_type": "code",
   "execution_count": 211,
   "id": "14a787dd-a697-454a-b4dc-6fcfe783a950",
   "metadata": {},
   "outputs": [
    {
     "name": "stdout",
     "output_type": "stream",
     "text": [
      "[*********************100%***********************]  1 of 1 completed\n",
      "Date\n",
      "2018-05-16   -1.299164\n",
      "2018-05-17   -1.305335\n",
      "2018-05-18   -1.308862\n",
      "2018-05-21   -1.302016\n",
      "2018-05-22   -1.304453\n",
      "                ...   \n",
      "2023-05-09    1.448263\n",
      "2023-05-10    1.487064\n",
      "2023-05-11    1.491182\n",
      "2023-05-12    1.470778\n",
      "2023-05-15    1.459925\n",
      "Name: Adj Close, Length: 1258, dtype: float64\n"
     ]
    }
   ],
   "source": [
    "import yfinance as yf\n",
    "import pandas as pd\n",
    "import numpy as np\n",
    "\n",
    "# Fetch historical data for AAPL using 'yfinance'\n",
    "aapl_data = yf.download('AAPL', period='5y')['Adj Close']\n",
    "\n",
    "# Calculate Z-score\n",
    "z_score = (aapl_data - aapl_data.mean()) / aapl_data.std()\n",
    "\n",
    "# Print the Z-score\n",
    "print(z_score)\n"
   ]
  },
  {
   "cell_type": "code",
   "execution_count": 212,
   "id": "9a28289e-6ff3-4125-b3ac-68c4ed8672d4",
   "metadata": {},
   "outputs": [
    {
     "data": {
      "text/plain": [
       "True"
      ]
     },
     "execution_count": 212,
     "metadata": {},
     "output_type": "execute_result"
    }
   ],
   "source": [
    "#If true is long\n",
    "z_score.mean()>= z_scores['Adj Close'].mean()"
   ]
  },
  {
   "cell_type": "code",
   "execution_count": 216,
   "id": "e6cba24a-daa6-4471-bd30-e2dbc345649e",
   "metadata": {},
   "outputs": [
    {
     "name": "stdout",
     "output_type": "stream",
     "text": [
      "[*********************100%***********************]  1 of 1 completed\n",
      "Date\n",
      "2018-05-16   -0.654014\n",
      "2018-05-17   -0.657781\n",
      "2018-05-18   -0.693566\n",
      "2018-05-21   -0.676992\n",
      "2018-05-22   -0.657404\n",
      "                ...   \n",
      "2023-05-09    0.952362\n",
      "2023-05-10    0.924034\n",
      "2023-05-11    0.876530\n",
      "2023-05-12    0.866071\n",
      "2023-05-15    0.890476\n",
      "Name: Adj Close, Length: 1258, dtype: float64\n"
     ]
    }
   ],
   "source": [
    "import yfinance as yf\n",
    "import pandas as pd\n",
    "import numpy as np\n",
    "\n",
    "# Fetch historical data for AAPL using 'yfinance'\n",
    "ms_data = yf.download('MS', period='5y')['Adj Close']\n",
    "\n",
    "# Calculate Z-score\n",
    "z_score2 = (ms_data - ms_data.mean()) / ms_data.std()\n",
    "\n",
    "# Print the Z-score\n",
    "print(z_score2)\n"
   ]
  },
  {
   "cell_type": "code",
   "execution_count": 217,
   "id": "06bb6600-1d13-4792-bba2-35b333a804af",
   "metadata": {},
   "outputs": [
    {
     "data": {
      "text/plain": [
       "True"
      ]
     },
     "execution_count": 217,
     "metadata": {},
     "output_type": "execute_result"
    }
   ],
   "source": [
    "#If true is short\n",
    "z_score2.mean()< z_scores['Adj Close'].mean()"
   ]
  },
  {
   "cell_type": "code",
   "execution_count": 218,
   "id": "f273eb25-13b3-4be1-880f-eb31518bf968",
   "metadata": {},
   "outputs": [
    {
     "name": "stdout",
     "output_type": "stream",
     "text": [
      "[*********************100%***********************]  1 of 1 completed\n",
      "[*********************100%***********************]  1 of 1 completed\n",
      "[*********************100%***********************]  1 of 1 completed\n"
     ]
    },
    {
     "data": {
      "image/png": "[encoded data removed]",
      "text/plain": [
       "<Figure size 720x432 with 1 Axes>"
      ]
     },
     "metadata": {
      "needs_background": "light"
     },
     "output_type": "display_data"
    }
   ],
   "source": [
    "import yfinance as yf\n",
    "import pandas as pd\n",
    "import matplotlib.pyplot as plt\n",
    "\n",
    "# Step 1: Define the Trading Strategy\n",
    "\n",
    "def my_strategy(data):\n",
    "    \n",
    "    # Example code snippet:\n",
    "    data['ma_50'] = data['Adj Close'].rolling(window=50).mean()\n",
    "    data['position'] = 0\n",
    "    data.loc[data['Adj Close'] > data['ma_50'], 'position'] = 1\n",
    "    data.loc[data['Adj Close'] < data['ma_50'], 'position'] = -1\n",
    "\n",
    "    return data\n",
    "\n",
    "\n",
    "# Step 2: Obtain Historical Data\n",
    "\n",
    "# Fetch historical data for the ETF, long picks, and short picks using 'yfinance'\n",
    "etf_data = yf.download('SPY', period='5y')['Adj Close'].to_frame()\n",
    "long_picks_data = yf.download('AAPL', period='5y')['Adj Close'].to_frame()  # AAPL is long based on z score\n",
    "short_picks_data = yf.download('MS', period='5y')['Adj Close'].to_frame()  # MS is short based on z score\n",
    "\n",
    "# Step 3: Implement the Strategy\n",
    "\n",
    "etf_data_with_strategy = my_strategy(etf_data.copy())\n",
    "long_picks_data_with_strategy = my_strategy(long_picks_data.copy())\n",
    "short_picks_data_with_strategy = my_strategy(short_picks_data.copy())\n",
    "\n",
    "# Step 4: Calculate Monthly Returns\n",
    "\n",
    "etf_monthly_returns = etf_data_with_strategy['Adj Close'].resample('M').ffill().pct_change()\n",
    "long_picks_monthly_returns = long_picks_data_with_strategy['Adj Close'].resample('M').ffill().pct_change()\n",
    "short_picks_monthly_returns = short_picks_data_with_strategy['Adj Close'].resample('M').ffill().pct_change()\n",
    "\n",
    "# Step 5: Create Bar Chart\n",
    "\n",
    "# Set up the figure and axes\n",
    "fig, ax = plt.subplots(figsize=(10, 6))\n",
    "\n",
    "# Plot the monthly returns\n",
    "etf_monthly_returns.plot(kind='bar', ax=ax, color='blue', alpha=0.7)\n",
    "long_picks_monthly_returns.plot(kind='bar', ax=ax, color='green', alpha=0.7)\n",
    "short_picks_monthly_returns.plot(kind='bar', ax=ax, color='red', alpha=0.7)\n",
    "\n",
    "# Set labels and titles\n",
    "ax.set_xlabel('Date')\n",
    "ax.set_ylabel('Monthly Returns')\n",
    "ax.set_title('Monthly Returns Comparison: ETF vs Long Picks vs Short Picks')\n",
    "\n",
    "ax.legend(['ETF', 'Long Picks', 'Short Picks'])\n",
    "\n",
    "# Show the plot\n",
    "plt.tight_layout()\n",
    "plt.show()\n"
   ]
  },
  {
   "cell_type": "code",
   "execution_count": 228,
   "id": "a1d052f7-14d8-416c-a5bd-0f1fd06d803f",
   "metadata": {},
   "outputs": [
    {
     "name": "stdout",
     "output_type": "stream",
     "text": [
      "[*********************100%***********************]  7 of 7 completed\n",
      "[*********************100%***********************]  1 of 1 completed\n"
     ]
    },
    {
     "data": {
      "image/png": "[encoded data removed]",
      "text/plain": [
       "<Figure size 720x432 with 1 Axes>"
      ]
     },
     "metadata": {
      "needs_background": "light"
     },
     "output_type": "display_data"
    }
   ],
   "source": [
    "import yfinance as yf\n",
    "import pandas as pd\n",
    "import matplotlib.pyplot as plt\n",
    "\n",
    "# Step 1: Obtain Historical Data\n",
    "\n",
    "# Fetch historical data for the portfolio and the ETF using 'yfinance'\n",
    "portfolio_data = yf.download(['AAPL','MS', 'JPM','MSFT','TSLA','TSTRX','AMZN'], period='5y')['Adj Close']  # Replace 'STOCK1', 'STOCK2', 'STOCK3' with the symbols of your portfolio stocks\n",
    "etf_data = yf.download('SPY', period='5y')['Adj Close']  # SPY' with the symbol of the ETF you want to compare\n",
    "\n",
    "# Step 2: Calculate Cumulative Returns\n",
    "\n",
    "portfolio_cumulative_returns = (portfolio_data.pct_change() + 1).cumprod() - 1\n",
    "etf_cumulative_returns = (etf_data.pct_change() + 1).cumprod() - 1\n",
    "\n",
    "# Step 3: Create Line Chart\n",
    "\n",
    "# Set up the figure and axes\n",
    "fig, ax = plt.subplots(figsize=(10, 6))\n",
    "\n",
    "# Plot the cumulative returns\n",
    "ax.plot(portfolio_cumulative_returns.index, portfolio_cumulative_returns, label= portfolio_data[0:7])\n",
    "ax.plot(etf_cumulative_returns.index, etf_cumulative_returns, label='SPY')\n",
    "\n",
    "# Set labels and titles\n",
    "ax.set_xlabel('Date')\n",
    "ax.set_ylabel('Cumulative Return')\n",
    "ax.set_title('Cumulative Portfolio Return vs ETF')\n",
    "\n",
    "# Add legend\n",
    "ax.legend()\n",
    "\n",
    "# Show the plot\n",
    "plt.tight_layout()\n",
    "plt.show()\n"
   ]
  },
  {
   "cell_type": "code",
   "execution_count": null,
   "id": "da7836ac-d9e9-4f8c-80a4-6c0154f35c59",
   "metadata": {},
   "outputs": [],
   "source": []
  }
 ],
 "metadata": {
  "kernelspec": {
   "display_name": "Python 3 (ipykernel)",
   "language": "python",
   "name": "python3"
  },
  "language_info": {
   "codemirror_mode": {
    "name": "ipython",
    "version": 3
   },
   "file_extension": ".py",
   "mimetype": "text/x-python",
   "name": "python",
   "nbconvert_exporter": "python",
   "pygments_lexer": "ipython3",
   "version": "3.9.7"
  }
 },
 "nbformat": 4,
 "nbformat_minor": 5
}
